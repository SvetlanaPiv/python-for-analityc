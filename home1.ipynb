{
 "cells": [
  {
   "cell_type": "markdown",
   "metadata": {},
   "source": [
    "### Условие 1\n",
    "##### На складе лежат разные фрукты в разном количестве.\n",
    "##### Нужно написать функцию, которая на вход принимает любое количество названий фруктов и их количество, а возвращает общее количество фруктов на складе"
   ]
  },
  {
   "cell_type": "code",
   "execution_count": 13,
   "metadata": {},
   "outputs": [],
   "source": [
    "def fruit(**kwargs):\n",
    "    {print(f\"Фрукт {name} в количестве {values} шт\")\n",
    "     for name, values in kwargs.items()}\n",
    "    return print(f'Общее количество фруктов на складе: {sum(kwargs.values())}')"
   ]
  },
  {
   "cell_type": "code",
   "execution_count": 14,
   "metadata": {},
   "outputs": [
    {
     "name": "stdout",
     "output_type": "stream",
     "text": [
      "Фрукт apple в количестве 23 шт\n",
      "Фрукт orange в количестве 23 шт\n",
      "Фрукт lemon в количестве 15 шт\n",
      "Фрукт melon в количестве 2 шт\n",
      "Общее количество фруктов на складе: 63\n"
     ]
    }
   ],
   "source": [
    "fruit(\n",
    "    apple = 23,\n",
    "    orange = 23,\n",
    "    lemon = 15,\n",
    "    melon = 2,\n",
    ")"
   ]
  },
  {
   "cell_type": "markdown",
   "metadata": {},
   "source": [
    "### Условие 3: *\n",
    "##### Дан список с затратами на рекламу. Но в данных есть ошибки, некоторые затраты имеют отрицательную величину. Удалите такие значения из списка и посчитайте суммарные затраты \n",
    "##### [100, 125, -90, 345, 655, -1, 0, 200]\n",
    "##### Используйте list comprehensions"
   ]
  },
  {
   "cell_type": "code",
   "execution_count": 20,
   "metadata": {},
   "outputs": [
    {
     "name": "stdout",
     "output_type": "stream",
     "text": [
      "Затраты на рекламу - положительные величины: [100, 125, 345, 655, 200]\n"
     ]
    },
    {
     "data": {
      "text/plain": [
       "'Суммарные затраты: 1425 '"
      ]
     },
     "execution_count": 20,
     "metadata": {},
     "output_type": "execute_result"
    }
   ],
   "source": [
    "advertising_costs = [100, 125, -90, 345, 655, -1, 0, 200]\n",
    "position_costs = [i for i in list_cosst if i > 0]\n",
    "print(f'Затраты на рекламу - положительные величины: {position_costs}')\n",
    "f\"Суммарные затраты: {sum(position_costs)} \""
   ]
  }
 ],
 "metadata": {
  "kernelspec": {
   "display_name": "Python 3",
   "language": "python",
   "name": "python3"
  },
  "language_info": {
   "codemirror_mode": {
    "name": "ipython",
    "version": 3
   },
   "file_extension": ".py",
   "mimetype": "text/x-python",
   "name": "python",
   "nbconvert_exporter": "python",
   "pygments_lexer": "ipython3",
   "version": "3.10.11"
  },
  "orig_nbformat": 4
 },
 "nbformat": 4,
 "nbformat_minor": 2
}
